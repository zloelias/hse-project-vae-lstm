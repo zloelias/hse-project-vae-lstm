{
  "nbformat": 4,
  "nbformat_minor": 0,
  "metadata": {
    "kernelspec": {
      "display_name": "Python 3",
      "language": "python",
      "name": "python3"
    },
    "language_info": {
      "codemirror_mode": {
        "name": "ipython",
        "version": 3
      },
      "file_extension": ".py",
      "mimetype": "text/x-python",
      "name": "python",
      "nbconvert_exporter": "python",
      "pygments_lexer": "ipython3",
      "version": "3.8.3"
    },
    "colab": {
      "name": "vae.ipynb",
      "provenance": [],
      "collapsed_sections": [],
      "include_colab_link": true
    }
  },
  "cells": [
    {
      "cell_type": "markdown",
      "metadata": {
        "id": "view-in-github",
        "colab_type": "text"
      },
      "source": [
        "<a href=\"https://colab.research.google.com/github/zloelias/hse-project-vae-lstm/blob/main/vae.ipynb\" target=\"_parent\"><img src=\"https://colab.research.google.com/assets/colab-badge.svg\" alt=\"Open In Colab\"/></a>"
      ]
    },
    {
      "cell_type": "code",
      "metadata": {
        "id": "rK5ohgLld9YT",
        "colab": {
          "base_uri": "https://localhost:8080/"
        },
        "outputId": "786e5087-1075-4ac2-f55e-8028d5de9095"
      },
      "source": [
        "from google.colab import drive\n",
        "drive.mount('/content/gdrive')\n"
      ],
      "execution_count": 1,
      "outputs": [
        {
          "output_type": "stream",
          "text": [
            "Mounted at /content/gdrive\n"
          ],
          "name": "stdout"
        }
      ]
    },
    {
      "cell_type": "code",
      "metadata": {
        "colab": {
          "base_uri": "https://localhost:8080/"
        },
        "id": "AZdrJAECkxmN",
        "outputId": "182e1601-2a14-4152-d6b7-0457e5be2ec4"
      },
      "source": [
        "!pip install sranodec"
      ],
      "execution_count": 4,
      "outputs": [
        {
          "output_type": "stream",
          "text": [
            "Collecting sranodec\n",
            "  Downloading https://files.pythonhosted.org/packages/f2/aa/3e37121b96357d02fb60bf1b5b90a12025ea1d564e60625f972d6a486500/sranodec-0.0.1-py3-none-any.whl\n",
            "Requirement already satisfied: scipy in /usr/local/lib/python3.7/dist-packages (from sranodec) (1.4.1)\n",
            "Requirement already satisfied: numpy in /usr/local/lib/python3.7/dist-packages (from sranodec) (1.19.5)\n",
            "Requirement already satisfied: matplotlib in /usr/local/lib/python3.7/dist-packages (from sranodec) (3.2.2)\n",
            "Requirement already satisfied: python-dateutil>=2.1 in /usr/local/lib/python3.7/dist-packages (from matplotlib->sranodec) (2.8.1)\n",
            "Requirement already satisfied: cycler>=0.10 in /usr/local/lib/python3.7/dist-packages (from matplotlib->sranodec) (0.10.0)\n",
            "Requirement already satisfied: kiwisolver>=1.0.1 in /usr/local/lib/python3.7/dist-packages (from matplotlib->sranodec) (1.3.1)\n",
            "Requirement already satisfied: pyparsing!=2.0.4,!=2.1.2,!=2.1.6,>=2.0.1 in /usr/local/lib/python3.7/dist-packages (from matplotlib->sranodec) (2.4.7)\n",
            "Requirement already satisfied: six>=1.5 in /usr/local/lib/python3.7/dist-packages (from python-dateutil>=2.1->matplotlib->sranodec) (1.15.0)\n",
            "Installing collected packages: sranodec\n",
            "Successfully installed sranodec-0.0.1\n"
          ],
          "name": "stdout"
        }
      ]
    },
    {
      "cell_type": "code",
      "metadata": {
        "id": "r9TimmgrxgfX"
      },
      "source": [
        "from IPython.display import clear_output\n",
        "import matplotlib.pyplot as plt\n",
        "import numpy as np\n",
        "import pandas as pd\n",
        "from sklearn.model_selection import train_test_split\n",
        "from sranodec import Silency\n",
        "import torch\n",
        "import torch.nn.functional as F\n",
        "import torch.nn as nn\n",
        "from torch.utils.data import Dataset, DataLoader\n",
        "from tqdm import tqdm\n"
      ],
      "execution_count": 5,
      "outputs": []
    },
    {
      "cell_type": "code",
      "metadata": {
        "id": "NE9liZMkxi6E"
      },
      "source": [
        "df = pd.read_csv('/content/gdrive/My Drive/Colab Notebooks/0.csv', index_col=0, header=0)\n",
        "y = df.label\n",
        "X = df.drop('label', axis=1).drop('KPI ID', axis=1)"
      ],
      "execution_count": 6,
      "outputs": []
    },
    {
      "cell_type": "code",
      "metadata": {
        "id": "rXHcIn_Zx0vv"
      },
      "source": [
        "X_train, X_test, y_train, y_test = train_test_split(X, y, test_size=0.5, shuffle=False)"
      ],
      "execution_count": 7,
      "outputs": []
    },
    {
      "cell_type": "code",
      "metadata": {
        "id": "nDNfnRq7dR3v",
        "colab": {
          "base_uri": "https://localhost:8080/"
        },
        "outputId": "84db2428-2f69-4a6a-848b-fa1de1802c2d"
      },
      "source": [
        "class KPIDataset(Dataset):\n",
        "    def __init__(self, X, y, window_len=256, sliding_step=1):\n",
        "        self.start = 0\n",
        "        self.window_len = window_len\n",
        "        self.sliding_step = sliding_step\n",
        "        self.df = X\n",
        "        timeseries = ((self.df.value - self.df.value.mean()) / self.df.value.std()).values\n",
        "        temp = []\n",
        "        temp_W = []\n",
        "        for i in range(self.start, len(timeseries) - self.window_len*self.sliding_step, self.sliding_step):\n",
        "            temp.append(\n",
        "                torch.unsqueeze(torch.tensor(timeseries[i:i+self.window_len]), 0)\n",
        "            )\n",
        "            temp_W.append(\n",
        "                torch.unsqueeze(torch.tensor(self.normality_weights(timeseries[i:i+self.window_len])), 0)\n",
        "            )\n",
        "        self.features = torch.Tensor(len(temp), self.window_len)\n",
        "        self.W = torch.Tensor(len(temp_W), self.window_len)\n",
        "        self.target = y\n",
        "        torch.cat(temp, out=self.features)\n",
        "        torch.cat(temp_W, out=self.W)\n",
        "        #self.W = torch.ones(len(temp), 1, self.window_len)\n",
        "        #self.W = torch.rand((len(temp), 1, self.window_len))\n",
        "\n",
        "    def normality_weights(self, x):\n",
        "        saliency = Silency(amp_window_size=self.window_len // 4, series_window_size=self.window_len // 4, score_window_size=self.window_len // 4)\n",
        "        #S = np.real(saliency.transform_silency_map(x))\n",
        "        #D = (S - S.mean()) / S\n",
        "        #W = 1 - 1 / (1 + np.exp(-(D - 5)))\n",
        "        W = 1 - saliency.generate_anomaly_score(x, type='chisq')\n",
        "        return W\n",
        "\n",
        "    def __getitem__(self, i):\n",
        "        return self.features[i].unsqueeze(dim=0), self.W[i].unsqueeze(dim=0)\n",
        "    \n",
        "    def __len__(self):\n",
        "        return len(self.features)\n",
        "\n",
        "\n",
        "train_dataset = KPIDataset(X_train, y_train, window_len=256, sliding_step=1)\n",
        "test_dataset = KPIDataset(X_test, y_test, window_len=256, sliding_step=1)\n",
        "\n",
        "BATCH_SIZE = 2048\n",
        "train_dataloader = DataLoader(train_dataset, batch_size=BATCH_SIZE, shuffle=False, num_workers=1, pin_memory=True)\n",
        "test_dataloader = DataLoader(test_dataset, batch_size=BATCH_SIZE, shuffle=False, num_workers=1, pin_memory=True)\n"
      ],
      "execution_count": 50,
      "outputs": [
        {
          "output_type": "stream",
          "text": [
            "/usr/local/lib/python3.7/dist-packages/sranodec/util.py:31: RuntimeWarning: invalid value encountered in double_scalars\n",
            "  slope = [(last_value - v) / i for (i, v) in enumerate(values[::-1])]\n"
          ],
          "name": "stderr"
        }
      ]
    },
    {
      "cell_type": "code",
      "metadata": {
        "id": "Vu_NNecLdR36"
      },
      "source": [
        "class VAE(nn.Module):\n",
        "    def __init__(self, h_dim=128, z_dim=32):\n",
        "        super(VAE, self).__init__()\n",
        "        self.encoder = nn.Sequential(\n",
        "            nn.Conv1d(1, 16, kernel_size=4, stride=4),\n",
        "            nn.LeakyReLU(negative_slope=0.1),\n",
        "            nn.Conv1d(16, 32, kernel_size=4, stride=4),\n",
        "            nn.LeakyReLU(negative_slope=0.1),\n",
        "            nn.Conv1d(32, 64, kernel_size=4, stride=4),\n",
        "            nn.LeakyReLU(negative_slope=0.1),\n",
        "            nn.Conv1d(64, 128, kernel_size=4, stride=4),\n",
        "            nn.LeakyReLU(negative_slope=0.1),\n",
        "            nn.Flatten(start_dim=1)\n",
        "        )\n",
        "        \n",
        "        self.fc1 = nn.Linear(h_dim, z_dim)\n",
        "        self.fc2 = nn.Linear(h_dim, z_dim)\n",
        "        self.fc3 = nn.Linear(z_dim, h_dim)\n",
        "        \n",
        "        self.decoder = nn.Sequential(\n",
        "            nn.Unflatten(1, (h_dim, 1)),\n",
        "            nn.ConvTranspose1d(h_dim, 64, kernel_size=4, stride=4),\n",
        "            nn.LeakyReLU(negative_slope=0.1),\n",
        "            nn.ConvTranspose1d(64, 32, kernel_size=4, stride=4),\n",
        "            nn.LeakyReLU(negative_slope=0.1),\n",
        "            nn.ConvTranspose1d(32, 16, kernel_size=4, stride=4),\n",
        "            nn.LeakyReLU(negative_slope=0.1),\n",
        "            nn.ConvTranspose1d(16, 1, kernel_size=4, stride=4),\n",
        "            nn.Tanhshrink(),\n",
        "        )\n",
        "        \n",
        "    def reparameterize(self, mu, logvar):\n",
        "        std = logvar.mul(0.5).exp_()\n",
        "        # return torch.normal(mu, std)\n",
        "        esp = torch.randn(*mu.size())\n",
        "        #print(f'esp {esp.shape}')\n",
        "        #print(f'srt {std.shape}')\n",
        "        z = mu + std * esp\n",
        "        return z\n",
        "    \n",
        "    def bottleneck(self, h):\n",
        "        mu, logvar = self.fc1(h), self.fc2(h)\n",
        "        #print(f'mu: {mu.shape}')\n",
        "        #print(f'logvar: {logvar}')\n",
        "        z = self.reparameterize(mu, logvar)\n",
        "        return z, mu, logvar\n",
        "\n",
        "    def encode(self, x):\n",
        "        h = self.encoder(x)\n",
        "        #print(f'x {x.shape}')\n",
        "        #print(f'h {h.shape}')\n",
        "        z, mu, logvar = self.bottleneck(h)\n",
        "        return z, mu, logvar\n",
        "\n",
        "    def decode(self, z):\n",
        "        z = self.fc3(z)\n",
        "        z = self.decoder(z)\n",
        "        return z\n",
        "\n",
        "    def forward(self, x):\n",
        "        z, mu, logvar = self.encode(x)\n",
        "        z = self.decode(z)\n",
        "        return z, mu, logvar\n"
      ],
      "execution_count": 63,
      "outputs": []
    },
    {
      "cell_type": "code",
      "metadata": {
        "id": "V7iA7XuwdR3_"
      },
      "source": [
        "device = torch.device(\"cuda\") if torch.cuda.is_available() else torch.device(\"cpu\")\n",
        "vae = VAE().to(device)\n"
      ],
      "execution_count": 64,
      "outputs": []
    },
    {
      "cell_type": "code",
      "metadata": {
        "id": "khl1sM7QdR3_"
      },
      "source": [
        "def weighted_mse_loss(input, target, weights):\n",
        "        return (weights * (input - target) ** 2).sum()\n",
        "\n",
        "def loss_fn(recon_x, x, mu, logvar, w, beta=.1):\n",
        "    MSE = weighted_mse_loss(recon_x, x, w)\n",
        "    # see Appendix B from VAE paper:\n",
        "    # Kingma and Welling. Auto-Encoding Variational Bayes. ICLR, 2014\n",
        "    # 0.5 * sum(1 + log(sigma^2) - mu^2 - sigma^2)\n",
        "    KLD = -0.5 * torch.mean(1 + logvar - mu.pow(2) - logvar.exp())\n",
        "\n",
        "    return MSE + beta*w.mean()*KLD, MSE, KLD"
      ],
      "execution_count": 65,
      "outputs": []
    },
    {
      "cell_type": "code",
      "metadata": {
        "colab": {
          "base_uri": "https://localhost:8080/",
          "height": 336
        },
        "id": "NKpMUMcadR3_",
        "outputId": "8c0c59dd-f066-46c1-afe6-00eb0bf064f6"
      },
      "source": [
        "optimizer = torch.optim.Adam(vae.parameters(), lr=1e-3)\n",
        "\n",
        "epochs = 30\n",
        "\n",
        "loss_history, mse_history, kld_history = [], [], []\n",
        "\n",
        "for epoch in range(epochs):\n",
        "    total_loss, total_mse, total_kld = 0, 0, 0\n",
        "    for idx, (x, w) in enumerate(train_dataloader):\n",
        "        #w.to(device)\n",
        "        recon_x, mu, logvar = vae(x)\n",
        "        loss, mse, kld = loss_fn(recon_x, x, mu, logvar, w)\n",
        "        optimizer.zero_grad()\n",
        "        loss.backward()\n",
        "        optimizer.step()\n",
        "\n",
        "        '''\n",
        "        if idx % 50 == 0:\n",
        "            to_print = f\"Epoch[{epoch+1}/{epochs}] Loss: {loss.item() / BATCH_SIZE} {mse.item() / BATCH_SIZE} {kld.item() / BATCH_SIZE}\"\n",
        "            print(to_print)\n",
        "        '''\n",
        "        total_loss += loss.item() / BATCH_SIZE\n",
        "        total_mse += mse.item() / BATCH_SIZE\n",
        "        total_kld += kld.item() / BATCH_SIZE\n",
        "    \n",
        "    loss_history.append(total_loss)\n",
        "    mse_history.append(total_mse)\n",
        "    kld_history.append(total_kld)\n",
        "\n",
        "    fig, ax = plt.subplots(ncols=3, figsize=(15,5))\n",
        "\n",
        "    ax[0].plot(mse_history)\n",
        "    ax[0].set_title('Reconstruction loss')\n",
        "    ax[1].plot(kld_history)\n",
        "    ax[1].set_title('KL')\n",
        "    ax[2].plot(loss_history)\n",
        "    ax[2].set_title('Total loss')\n",
        "    plt.show()\n",
        "    plt.pause(0.3);\n",
        "    clear_output(wait=True);\n",
        "\n"
      ],
      "execution_count": 69,
      "outputs": [
        {
          "output_type": "display_data",
          "data": {
            "image/png": "[encoded data removed]",
            "text/plain": [
              "<Figure size 1080x360 with 3 Axes>"
            ]
          },
          "metadata": {
            "tags": [],
            "needs_background": "light"
          }
        }
      ]
    },
    {
      "cell_type": "code",
      "metadata": {
        "id": "xeqzsbPHHgJE"
      },
      "source": [
        "import pickle\n",
        "\n",
        "with open('/content/gdrive/My Drive/Colab Notebooks/hse-project-vae-lstm/vae.pcl', 'wb') as f:\n",
        "    pickle.dump(vae, f)"
      ],
      "execution_count": 76,
      "outputs": []
    },
    {
      "cell_type": "code",
      "metadata": {
        "colab": {
          "base_uri": "https://localhost:8080/"
        },
        "id": "wjpVyztkFBEw",
        "outputId": "05b2d8c6-4776-423d-9ee8-e3fc8543d88d"
      },
      "source": [
        "temp = []\n",
        "for i in tqdm(range(60000, 70000, test_dataset.window_len)):\n",
        "    temp.append(torch.unsqueeze(test_dataset.features[i], 0))\n",
        "    \n",
        "#x = torch.Tensor(len(temp), 1, test_dataset.window_len)\n",
        "x = torch.cat(temp, out=x)\n",
        "x = torch.reshape(x, (len(temp), 1, test_dataset.window_len))\n",
        "x_recon, mu, logvar = vae(x)"
      ],
      "execution_count": 74,
      "outputs": [
        {
          "output_type": "stream",
          "text": [
            "100%|██████████| 40/40 [00:00<00:00, 15073.87it/s]\n"
          ],
          "name": "stderr"
        }
      ]
    },
    {
      "cell_type": "code",
      "metadata": {
        "colab": {
          "base_uri": "https://localhost:8080/",
          "height": 265
        },
        "id": "ATX2ZeaSCFz6",
        "outputId": "971c0949-f327-4bdc-a0ed-95e7baa48ff1"
      },
      "source": [
        "\n",
        "fig, ax = plt.subplots(figsize=(16, 4))\n",
        "\n",
        "ax.plot(x.reshape(-1), color='green', label='X')\n",
        "ax.plot(x_recon.reshape(-1).detach(), color='blue', label='Reconstructed X')\n",
        "ax.legend()\n",
        "\n",
        "ax.grid()\n",
        "\n",
        "#fig.savefig('/content/gdrive/My Drive/Colab Notebooks/hse-project-vae-lstm/reconstructed.png')\n",
        "plt.show()\n"
      ],
      "execution_count": 75,
      "outputs": [
        {
          "output_type": "display_data",
          "data": {
            "image/png": "[encoded data removed]",
            "text/plain": [
              "<Figure size 1152x288 with 1 Axes>"
            ]
          },
          "metadata": {
            "tags": [],
            "needs_background": "light"
          }
        }
      ]
    }
  ]
}